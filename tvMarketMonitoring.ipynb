{
 "cells": [
  {
   "cell_type": "markdown",
   "metadata": {},
   "source": [
    "#### Altroconsumo (https://www.altroconsumo.it/hi-tech/televisori/news/nuovo-standard-tv)"
   ]
  },
  {
   "cell_type": "markdown",
   "metadata": {},
   "source": [
    "La nuova legge ha però già affrontato i primi step: dal 1° luglio 2016, infatti, i produttori non possono più immettere sul mercato televisori sprovvisti del nuovo standard di trasmissione o senza il codec H265/HEVC. Dal 1° gennaio 2017 anche i rivenditori si sono dovuti adeguare, non potendo di fatto più vendere i \"vecchi\" televisori. La legge, però, ha già fatto un passo indietro: probabilmente per tanti rivenditori disfarsi dei televisori \"fuori legge\" entro il 2016 era davvero ambizioso, così la normativa ha avuto un'integrazione. È stata quindi introdotta la possibilità ai negozi di commercializzare le TV con il digitale terrestre DVB-T, a patto che queste vengano vendute abbinate a un decoder DVB-T2 con codec HEVC"
   ]
  },
  {
   "cell_type": "markdown",
   "metadata": {},
   "source": [
    "Dal primo luglio è scattata la prima scadenza, cioè il divieto per i produttori di immettere queste televisioni sul mercato italiano, mentre dal prossimo 1 gennaio 2017 questi apparecchi saranno illegali in Italia\n",
    "\n"
   ]
  },
  {
   "cell_type": "raw",
   "metadata": {
    "collapsed": true
   },
   "source": [
    "#### Campione di siti sotto osservazione\n",
    "- Euronics - si\n",
    "- Kijiji - si\n",
    "- ePrice - si\n",
    "- Subito - si\n",
    "- AliExpress - si\n",
    "- Prezzoforte - si\n",
    "\n",
    "- Yeppon - no\n",
    "- Amazon - no\n",
    "- Ebay - no\n",
    "\n",
    "- Monclick - no \n",
    "- Pixmania - no js\n",
    "- Wireshop - no\n",
    "\n",
    "- Groupon\n",
    "- Mediaworld"
   ]
  },
  {
   "cell_type": "markdown",
   "metadata": {},
   "source": [
    "#### Cosa cercare\n",
    "- televisori non Dvbt-2\n",
    "- televisori non Hevc\n",
    "\n",
    "#### Riferimenti interessanti\n",
    "- https://www.altroconsumo.it/hi-tech/televisori/news/nuovo-standard-tv \n",
    "- http://www.dday.it/redazione/20425/la-lista-dei-tv-future-proof-secondo-la-legge-dal-1-gennaio-2017-si-potranno-vendere-solo-questi/3/hisense"
   ]
  },
  {
   "cell_type": "markdown",
   "metadata": {},
   "source": [
    "## Librerie"
   ]
  },
  {
   "cell_type": "code",
   "execution_count": 1,
   "metadata": {},
   "outputs": [
    {
     "name": "stdout",
     "output_type": "stream",
     "text": [
      "2018-02-14T10:10:26.964+0100 I CONTROL  [initandlisten] MongoDB starting : pid=9595 port=27017 dbpath=/data/db 64-bit host=zebra.fub.it\r\n",
      "2018-02-14T10:10:26.964+0100 I CONTROL  [initandlisten] db version v3.4.2\r\n",
      "2018-02-14T10:10:26.964+0100 I CONTROL  [initandlisten] git version: 3f76e40c105fc223b3e5aac3e20dcd026b83b38b\r\n",
      "2018-02-14T10:10:26.964+0100 I CONTROL  [initandlisten] allocator: system\r\n",
      "2018-02-14T10:10:26.964+0100 I CONTROL  [initandlisten] modules: none\r\n",
      "2018-02-14T10:10:26.964+0100 I CONTROL  [initandlisten] build environment:\r\n",
      "2018-02-14T10:10:26.964+0100 I CONTROL  [initandlisten]     distarch: x86_64\r\n",
      "2018-02-14T10:10:26.964+0100 I CONTROL  [initandlisten]     target_arch: x86_64\r\n",
      "2018-02-14T10:10:26.964+0100 I CONTROL  [initandlisten] options: {}\r\n",
      "2018-02-14T10:10:26.964+0100 I STORAGE  [initandlisten] exception in initAndListen: 98 Unable to lock file: /data/db/mongod.lock Resource temporarily unavailable. Is a mongod instance already running?, terminating\r\n",
      "2018-02-14T10:10:26.964+0100 I NETWORK  [initandlisten] shutdown: going to close listening sockets...\r\n",
      "2018-02-14T10:10:26.964+0100 I NETWORK  [initandlisten] shutdown: going to flush diaglog...\r\n",
      "2018-02-14T10:10:26.964+0100 I CONTROL  [initandlisten] now exiting\r\n",
      "2018-02-14T10:10:26.964+0100 I CONTROL  [initandlisten] shutting down with code:100\r\n"
     ]
    }
   ],
   "source": [
    "import sys\n",
    "sys.path.append(\"./lib/python2.7/site-packages/\")\n",
    "from bs4 import BeautifulSoup\n",
    "import urllib\n",
    "import requests\n",
    "import os\n",
    "import subprocess\n",
    "import time\n",
    "import datetime\n",
    "!mongod\n",
    "# activate mongodb\n",
    "import pymongo\n",
    "from pymongo import MongoClient\n",
    "client = MongoClient()\n",
    "db = client.MonitoraggioTV\n",
    "#client.drop_database(\"MonitoraggioTV\")"
   ]
  },
  {
   "cell_type": "markdown",
   "metadata": {},
   "source": [
    "## Extract data"
   ]
  },
  {
   "cell_type": "code",
   "execution_count": 2,
   "metadata": {},
   "outputs": [],
   "source": [
    "def get_value(url,selector,keyword,shop):\n",
    "    r  = requests.get(url)\n",
    "    data = r.text\n",
    "    soup = BeautifulSoup(data, 'lxml')\n",
    "    numero_prodotti=(soup.select(selector)[0].text)\n",
    "    posts = db.posts\n",
    "    \n",
    "    if shop==\"SUBITO.IT\":\n",
    "        numero_prodotti = numero_prodotti.split(\",\")[1].replace(\"\\n\",\"\").replace(\"u'\",\"\").replace(\" \",\"\")\n",
    "    \n",
    "    if shop==\"eprice.it\":\n",
    "        numero_prodotti=int(numero_prodotti.split(\" articoli\")[0].replace(\"(\",\"\").replace(\" \",\"\"))\n",
    "        \n",
    "    if shop==\"kijiji.it\":\n",
    "        try:\n",
    "            numero_prodotti=int(numero_prodotti.split(\" Annunci\")[0].replace(\" \",\"\"))\n",
    "        except:\n",
    "            pass\n",
    "        \n",
    "    print keyword + \" \" + str(numero_prodotti)\n",
    "    post_data = {\n",
    "        'date': str(datetime.datetime.now().strftime(\"%d/%m/%y\")),\n",
    "        'url': url,\n",
    "        'risultato': numero_prodotti,\n",
    "        'keyword':keyword,\n",
    "        'shop': shop\n",
    "    }\n",
    "    if not posts.find_one(post_data ):\n",
    "        result = posts.insert_one(post_data)    "
   ]
  },
  {
   "cell_type": "markdown",
   "metadata": {},
   "source": [
    "### Kijiji.it"
   ]
  },
  {
   "cell_type": "code",
   "execution_count": 3,
   "metadata": {},
   "outputs": [
    {
     "name": "stdout",
     "output_type": "stream",
     "text": [
      "DVB-T2 41\n",
      "DVB-T 346\n",
      "HEVC 124\n",
      "DVB-T2 HEVC 0\n"
     ]
    }
   ],
   "source": [
    "shop=\"kijiji.it\"\n",
    "selector=\"body > div.content.left-rail.srp > div.main-container > div.main > div.srp-hed > div > h2\"\n",
    "\n",
    "url=\"https://www.kijiji.it/dvb-t2/\"\n",
    "keyword=\"DVB-T2\"\n",
    "get_value(url,selector,keyword,shop)\n",
    "\n",
    "url=\"https://www.kijiji.it/dvb-t/\"\n",
    "keyword=\"DVB-T\"\n",
    "get_value(url,selector,keyword,shop)\n",
    "\n",
    "url=\"https://www.kijiji.it/hevc/\"\n",
    "keyword=\"HEVC\"\n",
    "get_value(url,selector,keyword,shop)\n",
    "\n",
    "url=\"https://www.kijiji.it/dvb-t2+hevc\"\n",
    "keyword=\"DVB-T2 HEVC\"\n",
    "get_value(url,selector,keyword,shop)"
   ]
  },
  {
   "cell_type": "markdown",
   "metadata": {},
   "source": [
    "### PREZZO FORTE"
   ]
  },
  {
   "cell_type": "code",
   "execution_count": 4,
   "metadata": {},
   "outputs": [
    {
     "name": "stdout",
     "output_type": "stream",
     "text": [
      "DVB-T 88\n",
      "DVB-T2 81\n",
      "HEVC 36\n",
      "DVB-T2 HEVC 20\n"
     ]
    }
   ],
   "source": [
    "shop=\"PREZZOFORTE\"\n",
    "selector=\"#col_prodotti_numero > span.lista_prodotti_numero_prodotti\"\n",
    "\n",
    "url=\"https://www.prezzoforte.it/advanced_search_result.php?keywords=dvb-t\"\n",
    "keyword=\"DVB-T\"\n",
    "get_value(url,selector,keyword,shop)\n",
    "\n",
    "url=\"https://www.prezzoforte.it/advanced_search_result.php?keywords=dvb-t2\"\n",
    "keyword=\"DVB-T2\"\n",
    "get_value(url,selector,keyword,shop)\n",
    "\n",
    "url=\"https://www.prezzoforte.it/advanced_search_result.php?keywords=hevc\"\n",
    "keyword=\"HEVC\"\n",
    "get_value(url,selector,keyword,shop)\n",
    "\n",
    "url=\"https://www.prezzoforte.it/advanced_search_result.php?keywords=dvb-t2+hevc\"\n",
    "keyword=\"DVB-T2 HEVC\"\n",
    "get_value(url,selector,keyword,shop)"
   ]
  },
  {
   "cell_type": "markdown",
   "metadata": {},
   "source": [
    "## Euronics"
   ]
  },
  {
   "cell_type": "code",
   "execution_count": 5,
   "metadata": {},
   "outputs": [
    {
     "name": "stdout",
     "output_type": "stream",
     "text": [
      "DVB-T2 230\n",
      "DVB-T 10\n",
      "DVB-T2 HEVC 217\n",
      "HEVC 222\n"
     ]
    }
   ],
   "source": [
    "selector=\"#productList > div:nth-of-type(1) > section > div > b\"\n",
    "shop=\"EURONICS\"\n",
    "\n",
    "keyword=\"DVB-T2\"\n",
    "url=\"https://www.euronics.it/acquistaonline/?q=\"+keyword\n",
    "get_value(url,selector,keyword,shop)\n",
    "\n",
    "keyword=\"DVB-T\"    \n",
    "url=\"https://www.euronics.it/acquistaonline/?q=\"+keyword\n",
    "get_value(url,selector,keyword,shop)\n",
    "\n",
    "keyword=\"DVB-T2 HEVC\"\n",
    "url=\"https://www.euronics.it/acquistaonline/?q=\"+keyword\n",
    "get_value(url,selector,keyword,shop)\n",
    "\n",
    "keyword=\"HEVC\"\n",
    "url=\"https://www.euronics.it/acquistaonline/?q=\"+keyword\n",
    "get_value(url,selector,keyword,shop)"
   ]
  },
  {
   "cell_type": "markdown",
   "metadata": {},
   "source": [
    "## Aliexpress"
   ]
  },
  {
   "cell_type": "code",
   "execution_count": 11,
   "metadata": {},
   "outputs": [
    {
     "data": {
      "text/plain": [
       "u'2,082'"
      ]
     },
     "execution_count": 11,
     "metadata": {},
     "output_type": "execute_result"
    }
   ],
   "source": [
    "url=\"https://it.aliexpress.com/wholesale?spm=a2g0y.search0104.1.1.kasRbE&SearchText=dvb-t2\"\n",
    "r  = requests.get(url)\n",
    "data = r.text\n",
    "soup = BeautifulSoup(data, 'lxml')\n",
    "soup.select('#we-wholesale-search-list > div.bread-block-wrap > div > div > div.search-result > p > strong')[0].text\n"
   ]
  },
  {
   "cell_type": "code",
   "execution_count": 10,
   "metadata": {},
   "outputs": [
    {
     "ename": "IndexError",
     "evalue": "list index out of range",
     "output_type": "error",
     "traceback": [
      "\u001b[0;31m---------------------------------------------------------------------------\u001b[0m",
      "\u001b[0;31mIndexError\u001b[0m                                Traceback (most recent call last)",
      "\u001b[0;32m<ipython-input-10-e8c217466667>\u001b[0m in \u001b[0;36m<module>\u001b[0;34m()\u001b[0m\n\u001b[1;32m      5\u001b[0m \u001b[0;34m\u001b[0m\u001b[0m\n\u001b[1;32m      6\u001b[0m \u001b[0;31m#numero_prodotti=(soup.select('#we-wholesale-search-list > div.bread-block-wrap > div > div > div.search-result > p > strong')[0].text)\u001b[0m\u001b[0;34m\u001b[0m\u001b[0;34m\u001b[0m\u001b[0m\n\u001b[0;32m----> 7\u001b[0;31m \u001b[0mnumero_prodotti\u001b[0m\u001b[0;34m=\u001b[0m\u001b[0;34m(\u001b[0m\u001b[0msoup\u001b[0m\u001b[0;34m.\u001b[0m\u001b[0mselect\u001b[0m\u001b[0;34m(\u001b[0m\u001b[0;34m'#we-wholesale-search-list > div.bread-block-wrap > div > div > div.search-result > p > strong'\u001b[0m\u001b[0;34m)\u001b[0m\u001b[0;34m[\u001b[0m\u001b[0;36m0\u001b[0m\u001b[0;34m]\u001b[0m\u001b[0;34m.\u001b[0m\u001b[0mtext\u001b[0m\u001b[0;34m)\u001b[0m\u001b[0;34m\u001b[0m\u001b[0m\n\u001b[0m\u001b[1;32m      8\u001b[0m \u001b[0;34m\u001b[0m\u001b[0m\n\u001b[1;32m      9\u001b[0m \u001b[0;34m\u001b[0m\u001b[0m\n",
      "\u001b[0;31mIndexError\u001b[0m: list index out of range"
     ]
    }
   ],
   "source": [
    "url=\"https://it.aliexpress.com/wholesale?spm=a2g0y.search0104.1.1.kasRbE&SearchText=dvb-t2\"\n",
    "r  = requests.get(url)\n",
    "data = r.text\n",
    "soup = BeautifulSoup(data, 'lxml')\n",
    "\n",
    "#numero_prodotti=(soup.select('#we-wholesale-search-list > div.bread-block-wrap > div > div > div.search-result > p > strong')[0].text)\n",
    "numero_prodotti=(soup.select('#we-wholesale-search-list > div.bread-block-wrap > div > div > div.search-result > p > strong')[0].text)\n",
    "\n",
    "\n",
    "\n",
    "posts = db.posts\n",
    "\n",
    "post_data = {\n",
    "    'date': str(datetime.datetime.now().strftime(\"%d/%m/%y\")),\n",
    "    'url': url,\n",
    "    'risultato': numero_prodotti,\n",
    "    'keyword':\"DVB-T2\",\n",
    "    'shop': \"Aliexpress\"\n",
    "}\n",
    "\n",
    "print post_data\n",
    "if not posts.find_one(post_data ):\n",
    "    result = posts.insert_one(post_data)\n",
    "\n",
    "url=\"https://it.aliexpress.com/wholesale?catId=0&SearchText=dvb-t\"\n",
    "r  = requests.get(url)\n",
    "data = r.text\n",
    "soup = BeautifulSoup(data, 'lxml')\n",
    "numero_prodotti=(soup.select('#we-wholesale-search-list > div.bread-block-wrap > div > div > div.search-result > p > strong')[0].text)\n",
    "\n",
    "post_data = {\n",
    "    'shop': \"Aliexpress\",\n",
    "    'date': str(datetime.datetime.now().strftime(\"%d/%m/%y\")),\n",
    "    'url': url,\n",
    "    'risultato': numero_prodotti,\n",
    "    'keyword':\"DVB-T\"\n",
    "}\n",
    "\n",
    "print post_data\n",
    "if not posts.find_one(post_data ):\n",
    "    result = posts.insert_one(post_data)    \n",
    "    \n",
    "url=\"https://it.aliexpress.com/wholesale?catId=0&initiative_id=SB_20171129054255&SearchText=dvb-t2++hevc\"\n",
    "r  = requests.get(url)\n",
    "data = r.text\n",
    "soup = BeautifulSoup(data, 'lxml')\n",
    "numero_prodotti=(soup.select('#we-wholesale-search-list > div.bread-block-wrap > div > div > div.search-result > p > strong')[0].text)\n",
    "\n",
    "post_data = {\n",
    "    'shop': \"Aliexpress\",\n",
    "    'date': str(datetime.datetime.now().strftime(\"%d/%m/%y\")),\n",
    "    'url': url,\n",
    "    'risultato': numero_prodotti,\n",
    "    'keyword':\"DVB-T2 HEVC\"\n",
    "}\n",
    "\n",
    "print post_data\n",
    "if not posts.find_one(post_data ):\n",
    "    result = posts.insert_one(post_data)    \n",
    "\n",
    "    \n",
    "url=\"https://it.aliexpress.com/wholesale?catId=0&SearchText=hevc\"\n",
    "r  = requests.get(url)\n",
    "data = r.text\n",
    "soup = BeautifulSoup(data, 'lxml')\n",
    "numero_prodotti=(soup.select('#we-wholesale-search-list > div.bread-block-wrap > div > div > div.search-result > p > strong')[0].text)\n",
    "\n",
    "post_data = {\n",
    "    'shop': \"Aliexpress\",\n",
    "    'date': str(datetime.datetime.now().strftime(\"%d/%m/%y\")),\n",
    "    'url': url,\n",
    "    'risultato': numero_prodotti,\n",
    "    'keyword':\"HEVC\"\n",
    "}\n",
    "\n",
    "print post_data\n",
    "if not posts.find_one(post_data ):\n",
    "    result = posts.insert_one(post_data)"
   ]
  },
  {
   "cell_type": "markdown",
   "metadata": {},
   "source": [
    "### SUBITO.IT"
   ]
  },
  {
   "cell_type": "code",
   "execution_count": 7,
   "metadata": {},
   "outputs": [
    {
     "name": "stdout",
     "output_type": "stream",
     "text": [
      "DVB-T2 165\n",
      "HEVC 68\n",
      "DVB-T 302\n",
      "DVB-T2 HEVC 43\n"
     ]
    }
   ],
   "source": [
    "url=\"https://www.subito.it/annunci-italia/vendita/audio-video/?q=dvb-t2\"\n",
    "selector='#template_content > main > div.subcontent > div.main > div.listing > ul.list_link.large > li:nth-of-type(1)'\n",
    "\n",
    "keyword=\"DVB-T2\"\n",
    "shop=\"SUBITO.IT\"\n",
    "get_value(url,selector,keyword,shop)\n",
    "\n",
    "url=\"https://www.subito.it/annunci-italia/vendita/audio-video/?q=hevc\"\n",
    "keyword=\"HEVC\"\n",
    "get_value(url,selector,keyword,shop)\n",
    " \n",
    "url=\"https://www.subito.it/annunci-italia/vendita/audio-video/?q=dvb-t\"\n",
    "keyword=\"DVB-T\"\n",
    "get_value(url,selector,keyword,shop)\n",
    "\n",
    "url=\"https://www.subito.it/annunci-italia/vendita/audio-video/?q=dvb-t2+hevc\"\n",
    "keyword=\"DVB-T2 HEVC\"\n",
    "get_value(url,selector,keyword,shop)"
   ]
  },
  {
   "cell_type": "markdown",
   "metadata": {},
   "source": [
    "### EPRICE"
   ]
  },
  {
   "cell_type": "code",
   "execution_count": 8,
   "metadata": {},
   "outputs": [
    {
     "name": "stdout",
     "output_type": "stream",
     "text": [
      "HEVC 115\n",
      "DVB-T 149\n",
      "DVB-T2 827\n"
     ]
    }
   ],
   "source": [
    "shop=\"eprice.it\"\n",
    "selector='#breadcrumb > span.numRes'\n",
    "\n",
    "\n",
    "url=\"https://www.eprice.it/search/qs=hevc?mets=hevc\"\n",
    "keyword=\"HEVC\"\n",
    "get_value(url,selector,keyword,shop)\n",
    "\n",
    "url=\"https://www.eprice.it/search/qs=dvb%20t?mets=dvb%20t\"\n",
    "keyword=\"DVB-T\"\n",
    "get_value(url,selector,keyword,shop)\n",
    "\n",
    "url=\"https://www.eprice.it/search/sp=/audio-video-elettronica/home-video?qs=dvb%20t2&oq=dvb%20t2\"\n",
    "keyword=\"DVB-T2\"\n",
    "get_value(url,selector,keyword,shop)"
   ]
  },
  {
   "cell_type": "code",
   "execution_count": 9,
   "metadata": {},
   "outputs": [
    {
     "ename": "NameError",
     "evalue": "name 'posts' is not defined",
     "output_type": "error",
     "traceback": [
      "\u001b[0;31m---------------------------------------------------------------------------\u001b[0m",
      "\u001b[0;31mNameError\u001b[0m                                 Traceback (most recent call last)",
      "\u001b[0;32m<ipython-input-9-cad4c4bb7d36>\u001b[0m in \u001b[0;36m<module>\u001b[0;34m()\u001b[0m\n\u001b[0;32m----> 1\u001b[0;31m \u001b[0mlist\u001b[0m\u001b[0;34m(\u001b[0m\u001b[0mposts\u001b[0m\u001b[0;34m.\u001b[0m\u001b[0mremove\u001b[0m\u001b[0;34m(\u001b[0m\u001b[0;34m{\u001b[0m \u001b[0;34m\"shop\"\u001b[0m\u001b[0;34m:\u001b[0m \u001b[0;34m\"EURONICS\"\u001b[0m\u001b[0;34m,\u001b[0m\u001b[0;34m'date'\u001b[0m\u001b[0;34m:\u001b[0m \u001b[0;34m'10/01/18'\u001b[0m \u001b[0;34m}\u001b[0m\u001b[0;34m)\u001b[0m\u001b[0;34m)\u001b[0m\u001b[0;34m\u001b[0m\u001b[0m\n\u001b[0m",
      "\u001b[0;31mNameError\u001b[0m: name 'posts' is not defined"
     ]
    }
   ],
   "source": [
    "list(posts.remove({ \"shop\": \"EURONICS\",'date': '10/01/18' }))"
   ]
  },
  {
   "cell_type": "code",
   "execution_count": null,
   "metadata": {},
   "outputs": [],
   "source": [
    "#list(posts.remove({ \"shop\": \"Aliexpress\" }))\n",
    "list(posts.remove({ \"keyword\": \"Tutti televisori\" }))"
   ]
  },
  {
   "cell_type": "code",
   "execution_count": null,
   "metadata": {},
   "outputs": [],
   "source": [
    "!mongodump --db MonitoraggioTV --out=dbDump/\n",
    "import pandas as pd\n",
    "data = pd.DataFrame(list(posts.find()))\n",
    "data[\"risultato\"] = data[\"risultato\"].apply(lambda x: int(str(x).replace(\",\",\"\")))\n",
    "data[\"date\"] = pd.to_datetime(data['date'].values, format='%d/%m/%y')"
   ]
  },
  {
   "cell_type": "raw",
   "metadata": {},
   "source": [
    "for j in data.date.unique():\n",
    "    for i in data.shop.unique():\n",
    "\n",
    "        print str(j).split(\"T\")[0]\n",
    "        print data[(data[\"shop\"]==i) & (data[\"date\"]==j)][[\"shop\",\"keyword\",\"risultato\"]]"
   ]
  },
  {
   "cell_type": "code",
   "execution_count": null,
   "metadata": {},
   "outputs": [],
   "source": [
    "%matplotlib inline\n",
    "import matplotlib.pyplot as plt"
   ]
  },
  {
   "cell_type": "code",
   "execution_count": null,
   "metadata": {},
   "outputs": [],
   "source": [
    "import numpy as np\n",
    "import pandas as pd\n",
    "\n",
    "Aliexpress=data[(data[\"shop\"]==\"Aliexpress\")][\"risultato\"].values\n",
    "SUBITO=data[(data[\"shop\"]==\"SUBITO.IT\")][\"risultato\"].values    \n",
    "print SUBITO\n",
    "print Aliexpress\n",
    "d = {'Aliexpress' : Aliexpress,\n",
    "     'SUBITO' : SUBITO}\n",
    "\n",
    "df = pd.DataFrame(d)\n",
    "\n",
    "df.plot(style=['o','rx'])"
   ]
  },
  {
   "cell_type": "raw",
   "metadata": {},
   "source": [
    "##### mongodump --db MonitoraggioTV --out=dbDump/"
   ]
  },
  {
   "cell_type": "code",
   "execution_count": null,
   "metadata": {},
   "outputs": [],
   "source": [
    "import datetime\n",
    "today = datetime.date.today()\n",
    "print today.strftime('%d/%m/%Y')"
   ]
  },
  {
   "cell_type": "code",
   "execution_count": null,
   "metadata": {},
   "outputs": [],
   "source": [
    "#data[(data[\"shop\"]==\"EURONICS\") & (data[\"date\"]==\"10/01/18\")]"
   ]
  },
  {
   "cell_type": "markdown",
   "metadata": {},
   "source": [
    "post_data = {\n",
    "    'shop': \"EURONICS\",\n",
    "    'date': \"30/11/17\",\n",
    "    'url': 'https://www.euronics.it/acquistaonline/tv-led/cat110016/?q=DVB-T2 HEVC',\n",
    "    'risultato': 188,\n",
    "    'keyword':\"DVB-T2 HEVC\"\n",
    "}\n",
    "print post_data\n",
    "if not posts.find_one(post_data ):\n",
    "    result = posts.insert_one(post_data)\n",
    "  "
   ]
  },
  {
   "cell_type": "code",
   "execution_count": null,
   "metadata": {},
   "outputs": [],
   "source": []
  }
 ],
 "metadata": {
  "kernelspec": {
   "display_name": "Python 2",
   "language": "python",
   "name": "python2"
  },
  "language_info": {
   "codemirror_mode": {
    "name": "ipython",
    "version": 2
   },
   "file_extension": ".py",
   "mimetype": "text/x-python",
   "name": "python",
   "nbconvert_exporter": "python",
   "pygments_lexer": "ipython2",
   "version": "2.7.13"
  }
 },
 "nbformat": 4,
 "nbformat_minor": 1
}
