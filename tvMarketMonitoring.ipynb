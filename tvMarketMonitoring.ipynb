{
 "cells": [
  {
   "cell_type": "markdown",
   "metadata": {},
   "source": [
    "#### Altroconsumo (https://www.altroconsumo.it/hi-tech/televisori/news/nuovo-standard-tv)"
   ]
  },
  {
   "cell_type": "markdown",
   "metadata": {},
   "source": [
    "La nuova legge ha però già affrontato i primi step: dal 1° luglio 2016, infatti, i produttori non possono più immettere sul mercato televisori sprovvisti del nuovo standard di trasmissione o senza il codec H265/HEVC. Dal 1° gennaio 2017 anche i rivenditori si sono dovuti adeguare, non potendo di fatto più vendere i \"vecchi\" televisori. La legge, però, ha già fatto un passo indietro: probabilmente per tanti rivenditori disfarsi dei televisori \"fuori legge\" entro il 2016 era davvero ambizioso, così la normativa ha avuto un'integrazione. È stata quindi introdotta la possibilità ai negozi di commercializzare le TV con il digitale terrestre DVB-T, a patto che queste vengano vendute abbinate a un decoder DVB-T2 con codec HEVC"
   ]
  },
  {
   "cell_type": "markdown",
   "metadata": {},
   "source": [
    "Dal primo luglio è scattata la prima scadenza, cioè il divieto per i produttori di immettere queste televisioni sul mercato italiano, mentre dal prossimo 1 gennaio 2017 questi apparecchi saranno illegali in Italia\n",
    "\n"
   ]
  },
  {
   "cell_type": "raw",
   "metadata": {
    "collapsed": true
   },
   "source": [
    "#### Campione di siti sotto osservazione\n",
    "- Euronics - si\n",
    "- Kijiji - si\n",
    "- ePrice - si\n",
    "- Subito - si\n",
    "- AliExpress - si\n",
    "- Prezzoforte - si\n",
    "\n",
    "- Yeppon - no\n",
    "- Amazon - no\n",
    "- Ebay - no\n",
    "\n",
    "- Monclick - no \n",
    "- Pixmania - no js\n",
    "- Wireshop - no\n",
    "\n",
    "- Groupon\n",
    "- Mediaworld"
   ]
  },
  {
   "cell_type": "markdown",
   "metadata": {},
   "source": [
    "#### Cosa cercare\n",
    "- televisori non Dvbt-2\n",
    "- televisori non Hevc\n",
    "\n",
    "#### Riferimenti interessanti\n",
    "- https://www.altroconsumo.it/hi-tech/televisori/news/nuovo-standard-tv \n",
    "- http://www.dday.it/redazione/20425/la-lista-dei-tv-future-proof-secondo-la-legge-dal-1-gennaio-2017-si-potranno-vendere-solo-questi/3/hisense"
   ]
  },
  {
   "cell_type": "markdown",
   "metadata": {},
   "source": [
    "## Librerie"
   ]
  },
  {
   "cell_type": "code",
   "execution_count": 1,
   "metadata": {
    "collapsed": false
   },
   "outputs": [],
   "source": [
    "import sys\n",
    "sys.path.append(\"./lib/python2.7/site-packages/\")\n",
    "from bs4 import BeautifulSoup\n",
    "import urllib\n",
    "import requests\n",
    "import os\n",
    "import subprocess\n",
    "import time\n",
    "import datetime\n",
    "\n",
    "# activate mongodb\n",
    "import pymongo\n",
    "from pymongo import MongoClient\n",
    "client = MongoClient()\n",
    "db = client.MonitoraggioTV\n",
    "#client.drop_database(\"MonitoraggioTV\")"
   ]
  },
  {
   "cell_type": "markdown",
   "metadata": {},
   "source": [
    "## Extract data"
   ]
  },
  {
   "cell_type": "code",
   "execution_count": 3,
   "metadata": {
    "collapsed": true
   },
   "outputs": [],
   "source": [
    "def get_value(url,selector,keyword,shop):\n",
    "    r  = requests.get(url)\n",
    "    data = r.text\n",
    "    soup = BeautifulSoup(data, 'lxml')\n",
    "    numero_prodotti=(soup.select(selector)[0].text)\n",
    "    posts = db.posts\n",
    "    \n",
    "    if shop==\"SUBITO.IT\":\n",
    "        numero_prodotti = numero_prodotti.split(\",\")[1].replace(\"\\n\",\"\").replace(\"u'\",\"\").replace(\" \",\"\")\n",
    "    \n",
    "    if shop==\"eprice.it\":\n",
    "        numero_prodotti=int(numero_prodotti.split(\" articoli\")[0].replace(\"(\",\"\").replace(\" \",\"\"))\n",
    "        \n",
    "    if shop==\"kijiji.it\":\n",
    "        try:\n",
    "            numero_prodotti=int(numero_prodotti.split(\" Annunci\")[0].replace(\" \",\"\"))\n",
    "        except:\n",
    "            pass\n",
    "        \n",
    "    print keyword + \" \" + str(numero_prodotti)\n",
    "    post_data = {\n",
    "        'date': str(datetime.datetime.now().strftime(\"%d/%m/%y\")),\n",
    "        'url': url,\n",
    "        'risultato': numero_prodotti,\n",
    "        'keyword':keyword,\n",
    "        'shop': shop\n",
    "    }\n",
    "    if not posts.find_one(post_data ):\n",
    "        result = posts.insert_one(post_data)    "
   ]
  },
  {
   "cell_type": "markdown",
   "metadata": {},
   "source": [
    "### Kijiji.it"
   ]
  },
  {
   "cell_type": "code",
   "execution_count": 149,
   "metadata": {
    "collapsed": false
   },
   "outputs": [
    {
     "name": "stdout",
     "output_type": "stream",
     "text": [
      "DVB-T2 40\n",
      "DVB-T 266\n",
      "HEVC 1\n",
      "DVB-T2 HEVC 0\n"
     ]
    }
   ],
   "source": [
    "shop=\"kijiji.it\"\n",
    "selector=\"body > div.content.left-rail.srp > div.main-container > div.main > div.srp-hed > div > h2\"\n",
    "\n",
    "url=\"https://www.kijiji.it/dvb-t2/\"\n",
    "keyword=\"DVB-T2\"\n",
    "get_value(url,selector,keyword,shop)\n",
    "\n",
    "url=\"https://www.kijiji.it/dvb-t/\"\n",
    "keyword=\"DVB-T\"\n",
    "get_value(url,selector,keyword,shop)\n",
    "\n",
    "url=\"https://www.kijiji.it/hevc/\"\n",
    "keyword=\"HEVC\"\n",
    "get_value(url,selector,keyword,shop)\n",
    "\n",
    "url=\"https://www.kijiji.it/dvb-t2+hevc\"\n",
    "keyword=\"DVB-T2 HEVC\"\n",
    "get_value(url,selector,keyword,shop)"
   ]
  },
  {
   "cell_type": "markdown",
   "metadata": {},
   "source": [
    "### PREZZO FORTE"
   ]
  },
  {
   "cell_type": "code",
   "execution_count": 83,
   "metadata": {
    "collapsed": false
   },
   "outputs": [
    {
     "name": "stdout",
     "output_type": "stream",
     "text": [
      "DVB-T 89\n",
      "DVB-T2 82\n",
      "HEVC 37\n",
      "DVB-T2 HEVC 21\n"
     ]
    }
   ],
   "source": [
    "shop=\"PREZZOFORTE\"\n",
    "selector=\"#col_prodotti_numero > span.lista_prodotti_numero_prodotti\"\n",
    "\n",
    "url=\"https://www.prezzoforte.it/advanced_search_result.php?keywords=dvb-t\"\n",
    "keyword=\"DVB-T\"\n",
    "get_value(url,selector,keyword,shop)\n",
    "\n",
    "url=\"https://www.prezzoforte.it/advanced_search_result.php?keywords=dvb-t2\"\n",
    "keyword=\"DVB-T2\"\n",
    "get_value(url,selector,keyword,shop)\n",
    "\n",
    "url=\"https://www.prezzoforte.it/advanced_search_result.php?keywords=hevc\"\n",
    "keyword=\"HEVC\"\n",
    "get_value(url,selector,keyword,shop)\n",
    "\n",
    "url=\"https://www.prezzoforte.it/advanced_search_result.php?keywords=dvb-t2+hevc\"\n",
    "keyword=\"DVB-T2 HEVC\"\n",
    "get_value(url,selector,keyword,shop)"
   ]
  },
  {
   "cell_type": "markdown",
   "metadata": {},
   "source": [
    "## Euronics"
   ]
  },
  {
   "cell_type": "code",
   "execution_count": 6,
   "metadata": {
    "collapsed": false
   },
   "outputs": [
    {
     "name": "stdout",
     "output_type": "stream",
     "text": [
      "Tutti televisori 197\n",
      "DVB-T2 192\n",
      "DVB-T 2\n"
     ]
    }
   ],
   "source": [
    "selector=\"#productList > div:nth-of-type(1) > section > div > b\"\n",
    "shop=\"EURONICS\"\n",
    "\n",
    "url=\"https://www.euronics.it/acquistaonline/tv-led/cat110016/\"\n",
    "keyword=\"Tutti televisori\"\n",
    "get_value(url,selector,keyword,shop)\n",
    "\n",
    "keyword=\"DVB-T2\"    \n",
    "url=\"https://www.euronics.it/acquistaonline/tv-led/cat110016/?q=\"+keyword\n",
    "get_value(url,selector,keyword,shop)\n",
    "\n",
    "keyword=\"DVB-T\"    \n",
    "url=\"https://www.euronics.it/acquistaonline/tv-led/cat110016/?q=\"+keyword\n",
    "get_value(url,selector,keyword,shop)"
   ]
  },
  {
   "cell_type": "markdown",
   "metadata": {},
   "source": [
    "## Aliexpress"
   ]
  },
  {
   "cell_type": "code",
   "execution_count": 84,
   "metadata": {
    "collapsed": false
   },
   "outputs": [
    {
     "name": "stdout",
     "output_type": "stream",
     "text": [
      "{'date': '30/11/17', 'url': 'https://it.aliexpress.com/wholesale?spm=a2g0y.search0104.1.1.kasRbE&SearchText=dvb-t2', 'shop': 'Aliexpress', 'keyword': 'DVB-T2', 'risultato': u'2,017'}\n",
      "{'shop': 'Aliexpress', 'date': '30/11/17', 'keyword': 'DVB-T', 'url': 'https://it.aliexpress.com/wholesale?catId=0&SearchText=dvb-t', 'risultato': u'3,437'}\n",
      "{'shop': 'Aliexpress', 'date': '30/11/17', 'keyword': 'DVB-T2 HEVC', 'url': 'https://it.aliexpress.com/wholesale?catId=0&initiative_id=SB_20171129054255&SearchText=dvb-t2++hevc', 'risultato': u'45'}\n",
      "{'shop': 'Aliexpress', 'date': '30/11/17', 'keyword': 'HEVC', 'url': 'https://it.aliexpress.com/wholesale?catId=0&SearchText=hevc', 'risultato': u'401'}\n"
     ]
    }
   ],
   "source": [
    "url=\"https://it.aliexpress.com/wholesale?spm=a2g0y.search0104.1.1.kasRbE&SearchText=dvb-t2\"\n",
    "r  = requests.get(url)\n",
    "data = r.text\n",
    "soup = BeautifulSoup(data, 'lxml')\n",
    "\n",
    "numero_prodotti=(soup.select('#we-wholesale-search-list > div.bread-block-wrap > div > div > div.search-result > p > strong')[0].text)\n",
    "posts = db.posts\n",
    "\n",
    "post_data = {\n",
    "    'date': str(datetime.datetime.now().strftime(\"%d/%m/%y\")),\n",
    "    'url': url,\n",
    "    'risultato': numero_prodotti,\n",
    "    'keyword':\"DVB-T2\",\n",
    "    'shop': \"Aliexpress\"\n",
    "}\n",
    "\n",
    "print post_data\n",
    "if not posts.find_one(post_data ):\n",
    "    result = posts.insert_one(post_data)\n",
    "\n",
    "url=\"https://it.aliexpress.com/wholesale?catId=0&SearchText=dvb-t\"\n",
    "r  = requests.get(url)\n",
    "data = r.text\n",
    "soup = BeautifulSoup(data, 'lxml')\n",
    "numero_prodotti=(soup.select('#we-wholesale-search-list > div.bread-block-wrap > div > div > div.search-result > p > strong')[0].text)\n",
    "\n",
    "post_data = {\n",
    "    'shop': \"Aliexpress\",\n",
    "    'date': str(datetime.datetime.now().strftime(\"%d/%m/%y\")),\n",
    "    'url': url,\n",
    "    'risultato': numero_prodotti,\n",
    "    'keyword':\"DVB-T\"\n",
    "}\n",
    "\n",
    "print post_data\n",
    "if not posts.find_one(post_data ):\n",
    "    result = posts.insert_one(post_data)    \n",
    "    \n",
    "url=\"https://it.aliexpress.com/wholesale?catId=0&initiative_id=SB_20171129054255&SearchText=dvb-t2++hevc\"\n",
    "r  = requests.get(url)\n",
    "data = r.text\n",
    "soup = BeautifulSoup(data, 'lxml')\n",
    "numero_prodotti=(soup.select('#we-wholesale-search-list > div.bread-block-wrap > div > div > div.search-result > p > strong')[0].text)\n",
    "\n",
    "post_data = {\n",
    "    'shop': \"Aliexpress\",\n",
    "    'date': str(datetime.datetime.now().strftime(\"%d/%m/%y\")),\n",
    "    'url': url,\n",
    "    'risultato': numero_prodotti,\n",
    "    'keyword':\"DVB-T2 HEVC\"\n",
    "}\n",
    "\n",
    "print post_data\n",
    "if not posts.find_one(post_data ):\n",
    "    result = posts.insert_one(post_data)    \n",
    "\n",
    "    \n",
    "url=\"https://it.aliexpress.com/wholesale?catId=0&SearchText=hevc\"\n",
    "r  = requests.get(url)\n",
    "data = r.text\n",
    "soup = BeautifulSoup(data, 'lxml')\n",
    "numero_prodotti=(soup.select('#we-wholesale-search-list > div.bread-block-wrap > div > div > div.search-result > p > strong')[0].text)\n",
    "\n",
    "post_data = {\n",
    "    'shop': \"Aliexpress\",\n",
    "    'date': str(datetime.datetime.now().strftime(\"%d/%m/%y\")),\n",
    "    'url': url,\n",
    "    'risultato': numero_prodotti,\n",
    "    'keyword':\"HEVC\"\n",
    "}\n",
    "\n",
    "print post_data\n",
    "if not posts.find_one(post_data ):\n",
    "    result = posts.insert_one(post_data)"
   ]
  },
  {
   "cell_type": "markdown",
   "metadata": {},
   "source": [
    "### SUBITO.IT"
   ]
  },
  {
   "cell_type": "code",
   "execution_count": 85,
   "metadata": {
    "collapsed": false
   },
   "outputs": [
    {
     "name": "stdout",
     "output_type": "stream",
     "text": [
      "DVB-T2 173\n",
      "HEVC 86\n",
      "DVB-T 292\n",
      "DVB-T2 HEVC 50\n"
     ]
    }
   ],
   "source": [
    "url=\"https://www.subito.it/annunci-italia/vendita/audio-video/?q=dvb-t2\"\n",
    "selector='#template_content > main > div.subcontent > div.main > div.listing > ul.list_link.large > li:nth-of-type(1)'\n",
    "\n",
    "keyword=\"DVB-T2\"\n",
    "shop=\"SUBITO.IT\"\n",
    "get_value(url,selector,keyword,shop)\n",
    "\n",
    "url=\"https://www.subito.it/annunci-italia/vendita/audio-video/?q=hevc\"\n",
    "keyword=\"HEVC\"\n",
    "get_value(url,selector,keyword,shop)\n",
    " \n",
    "url=\"https://www.subito.it/annunci-italia/vendita/audio-video/?q=dvb-t\"\n",
    "keyword=\"DVB-T\"\n",
    "get_value(url,selector,keyword,shop)\n",
    "\n",
    "url=\"https://www.subito.it/annunci-italia/vendita/audio-video/?q=dvb-t2+hevc\"\n",
    "keyword=\"DVB-T2 HEVC\"\n",
    "get_value(url,selector,keyword,shop)"
   ]
  },
  {
   "cell_type": "markdown",
   "metadata": {},
   "source": [
    "### EPRICE"
   ]
  },
  {
   "cell_type": "code",
   "execution_count": 86,
   "metadata": {
    "collapsed": false
   },
   "outputs": [],
   "source": [
    "shop=\"eprice.it\"\n",
    "selector='#breadcrumb > span.numRes'\n",
    "\n",
    "url=\"https://www.eprice.it/search/qs=hevc?mets=hevc\"\n",
    "keyword=\"HEVC\"\n",
    "    \n",
    "url=\"https://www.eprice.it/search/qs=dvb%20t?mets=dvb%20t\"\n",
    "keyword=\"DVB-T\"\n",
    "   \n",
    "url=\"https://www.eprice.it/search/sp=/audio-video-elettronica/home-video?qs=dvb%20t2&oq=dvb%20t2\"\n",
    "keyword=\"DVB-T2\""
   ]
  },
  {
   "cell_type": "raw",
   "metadata": {},
   "source": [
    "list(posts.remove({ \"shop\": \"Aliexpress\" }))"
   ]
  },
  {
   "cell_type": "code",
   "execution_count": 119,
   "metadata": {
    "collapsed": false
   },
   "outputs": [],
   "source": [
    "import pandas as pd\n",
    "data = pd.DataFrame(list(posts.find()))\n",
    "data[\"risultato\"] = data[\"risultato\"].apply(lambda x: int(str(x).replace(\",\",\"\")))\n",
    "data[\"date\"] = pd.to_datetime(data['date'].values, format='%d/%m/%y')"
   ]
  },
  {
   "cell_type": "code",
   "execution_count": 144,
   "metadata": {
    "collapsed": false
   },
   "outputs": [
    {
     "name": "stdout",
     "output_type": "stream",
     "text": [
      "2017-11-29\n",
      "        shop      keyword  risultato\n",
      "0  kijiji.it       DVB-T2         40\n",
      "1  kijiji.it        DVB-T        266\n",
      "2  kijiji.it         HEVC          1\n",
      "3  kijiji.it  DVB-T2 HEVC          0\n",
      "2017-11-29\n",
      "          shop      keyword  risultato\n",
      "4  PREZZOFORTE        DVB-T         88\n",
      "5  PREZZOFORTE       DVB-T2         81\n",
      "6  PREZZOFORTE         HEVC         38\n",
      "7  PREZZOFORTE  DVB-T2 HEVC         21\n",
      "2017-11-29\n",
      "        shop           keyword  risultato\n",
      "8   EURONICS  Tutti televisori        197\n",
      "9   EURONICS            DVB-T2        192\n",
      "10  EURONICS             DVB-T          2\n",
      "2017-11-29\n",
      "         shop      keyword  risultato\n",
      "11  SUBITO.IT       DVB-T2        170\n",
      "12  SUBITO.IT         HEVC         84\n",
      "13  SUBITO.IT        DVB-T        291\n",
      "14  SUBITO.IT  DVB-T2 HEVC         48\n",
      "2017-11-29\n",
      "          shop      keyword  risultato\n",
      "15  Aliexpress       DVB-T2       2017\n",
      "16  Aliexpress        DVB-T       3439\n",
      "17  Aliexpress  DVB-T2 HEVC         45\n",
      "18  Aliexpress         HEVC        414\n",
      "2017-11-30\n",
      "         shop      keyword  risultato\n",
      "19  kijiji.it       DVB-T2         40\n",
      "20  kijiji.it        DVB-T        267\n",
      "21  kijiji.it         HEVC          1\n",
      "22  kijiji.it  DVB-T2 HEVC          0\n",
      "2017-11-30\n",
      "           shop      keyword  risultato\n",
      "23  PREZZOFORTE        DVB-T         89\n",
      "24  PREZZOFORTE       DVB-T2         82\n",
      "25  PREZZOFORTE         HEVC         37\n",
      "26  PREZZOFORTE  DVB-T2 HEVC         21\n",
      "2017-11-30\n",
      "Empty DataFrame\n",
      "Columns: [shop, keyword, risultato]\n",
      "Index: []\n",
      "2017-11-30\n",
      "         shop      keyword  risultato\n",
      "31  SUBITO.IT       DVB-T2        173\n",
      "32  SUBITO.IT         HEVC         86\n",
      "33  SUBITO.IT        DVB-T        292\n",
      "34  SUBITO.IT  DVB-T2 HEVC         50\n",
      "2017-11-30\n",
      "          shop      keyword  risultato\n",
      "27  Aliexpress       DVB-T2       2017\n",
      "28  Aliexpress        DVB-T       3437\n",
      "29  Aliexpress  DVB-T2 HEVC         45\n",
      "30  Aliexpress         HEVC        401\n"
     ]
    }
   ],
   "source": [
    "for j in data.date.unique():\n",
    "    for i in data.shop.unique():\n",
    "\n",
    "        print str(j).split(\"T\")[0]\n",
    "        print data[(data[\"shop\"]==i) & (data[\"date\"]==j)][[\"shop\",\"keyword\",\"risultato\"]]"
   ]
  },
  {
   "cell_type": "code",
   "execution_count": 110,
   "metadata": {
    "collapsed": true
   },
   "outputs": [],
   "source": [
    "%matplotlib inline\n",
    "import matplotlib.pyplot as plt"
   ]
  },
  {
   "cell_type": "code",
   "execution_count": 148,
   "metadata": {
    "collapsed": false
   },
   "outputs": [
    {
     "name": "stdout",
     "output_type": "stream",
     "text": [
      "[170  84 291  48 173  86 292  50]\n",
      "[2017 3439   45  414 2017 3437   45  401]\n"
     ]
    },
    {
     "data": {
      "text/plain": [
       "<matplotlib.axes._subplots.AxesSubplot at 0x111343d50>"
      ]
     },
     "execution_count": 148,
     "metadata": {},
     "output_type": "execute_result"
    },
    {
     "data": {
      "image/png": "[encoded data removed]",
      "text/plain": [
       "<matplotlib.figure.Figure at 0x10ff57490>"
      ]
     },
     "metadata": {},
     "output_type": "display_data"
    }
   ],
   "source": [
    "import numpy as np\n",
    "import pandas as pd\n",
    "\n",
    "Aliexpress=data[(data[\"shop\"]==\"Aliexpress\")][\"risultato\"].values\n",
    "SUBITO=data[(data[\"shop\"]==\"SUBITO.IT\")][\"risultato\"].values    \n",
    "print SUBITO\n",
    "print Aliexpress\n",
    "d = {'Aliexpress' : Aliexpress,\n",
    "     'SUBITO' : SUBITO}\n",
    "\n",
    "df = pd.DataFrame(d)\n",
    "\n",
    "df.plot(style=['o','rx'])"
   ]
  },
  {
   "cell_type": "code",
   "execution_count": null,
   "metadata": {
    "collapsed": true
   },
   "outputs": [],
   "source": []
  }
 ],
 "metadata": {
  "kernelspec": {
   "display_name": "Python 2",
   "language": "python",
   "name": "python2"
  },
  "language_info": {
   "codemirror_mode": {
    "name": "ipython",
    "version": 2
   },
   "file_extension": ".py",
   "mimetype": "text/x-python",
   "name": "python",
   "nbconvert_exporter": "python",
   "pygments_lexer": "ipython2",
   "version": "2.7.13"
  }
 },
 "nbformat": 4,
 "nbformat_minor": 1
}
